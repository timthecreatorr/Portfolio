{
 "cells": [
  {
   "cell_type": "code",
   "execution_count": 1,
   "id": "dcb7017e-b53d-4a78-af59-7f613941c892",
   "metadata": {},
   "outputs": [],
   "source": [
    "from datetime import datetime\n",
    "\n",
    "class Users:\n",
    "    def __init__(self, first_name, last_name, birth_year, email):\n",
    "        self.first_name = first_name\n",
    "        self.last_name = last_name\n",
    "        self.birth_year = int(birth_year)\n",
    "        self.email = email\n",
    "    \n",
    "    def getAge(self):\n",
    "        return 2023 - self.birth_year\n",
    "\n",
    "# Список для хранения пользователей\n",
    "users_list = []\n",
    "\n",
    "# Чтение файла users.txt\n",
    "try:\n",
    "    with open(\"users.txt\", \"r\", encoding=\"utf-8\") as file:\n",
    "        for line in file:\n",
    "            try:\n",
    "                data = line.strip().split(',')\n",
    "                if len(data) == 5:  #  Проверяем 5 полей (ID, Имя, Фамилия, Email, Год)\n",
    "                    user = Users(data[1], data[2], data[4], data[3])  # Пропускаем data[0] (ID)\n",
    "                    users_list.append(user)\n",
    "            except Exception:\n",
    "                print(\"some error occured\")\n",
    "except FileNotFoundError:\n",
    "    print(\"the file that you would like to read is not found\")\n",
    "except Exception:\n",
    "    print(\"some error occured\")\n",
    "\n",
    "# Функция фильтрации пользователей по возрасту\n",
    "def filter_users(low=30, high=50, users=[]):\n",
    "    for user in users:\n",
    "        age = user.getAge()\n",
    "        if low < age < high:\n",
    "            print(f\"{user.email},{age}\")\n"
   ]
  },
  {
   "cell_type": "code",
   "execution_count": 2,
   "id": "10a78e17-6892-4de2-a172-46efa7c8e1d2",
   "metadata": {},
   "outputs": [
    {
     "name": "stdout",
     "output_type": "stream",
     "text": [
      "\n",
      "📌 Загруженные пользователи:\n",
      "Magzhan Kairanbay, 32 лет, magzhan.kairanbay@gmail.com\n",
      "John See, 42 лет, john.see@gmail.com\n",
      "Lim Kim, 26 лет, lim.kim@gmail.com\n",
      "Andrew Ng, 52 лет, andrew.ng@gmail.com\n",
      "Andrey Karpathy, 42 лет, andrey.karpathy@gmail.com\n",
      "Jackie Chan, 72 лет, jeckie.chan@gmail.com\n",
      "Clarence Lim, 38 лет, clarence.lim@gmail.com\n",
      "Ryan Jack, 29 лет, ryan.jack@gmail.com\n",
      "Jonattan Clark, 23 лет, jonattan.clark@gmail.com\n",
      "Chris Brown, 34 лет, chris.brown@gmail.com\n",
      "Justin Bieber, 31 лет, justin.bieber@gmail.com\n",
      "\n",
      "📌 Фильтрованные пользователи:\n",
      "magzhan.kairanbay@gmail.com,32\n",
      "john.see@gmail.com,42\n",
      "andrey.karpathy@gmail.com,42\n",
      "clarence.lim@gmail.com,38\n",
      "chris.brown@gmail.com,34\n",
      "justin.bieber@gmail.com,31\n"
     ]
    }
   ],
   "source": [
    "# Вывод загруженных пользователей\n",
    "print(\"\\n📌 Загруженные пользователи:\")\n",
    "for user in users_list:\n",
    "    print(f\"{user.first_name} {user.last_name}, {user.getAge()} лет, {user.email}\")\n",
    "\n",
    "# Вызов функции фильтрации\n",
    "print(\"\\n📌 Фильтрованные пользователи:\")\n",
    "filter_users(users=users_list)\n"
   ]
  }
 ],
 "metadata": {
  "kernelspec": {
   "display_name": "Python 3 (ipykernel)",
   "language": "python",
   "name": "python3"
  },
  "language_info": {
   "codemirror_mode": {
    "name": "ipython",
    "version": 3
   },
   "file_extension": ".py",
   "mimetype": "text/x-python",
   "name": "python",
   "nbconvert_exporter": "python",
   "pygments_lexer": "ipython3",
   "version": "3.12.7"
  }
 },
 "nbformat": 4,
 "nbformat_minor": 5
}
