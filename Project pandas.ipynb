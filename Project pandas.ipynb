{
 "cells": [
  {
   "cell_type": "code",
   "execution_count": 1,
   "id": "d2dc0097-ccec-4eee-bb5f-50b3f1509e53",
   "metadata": {},
   "outputs": [],
   "source": [
    "import pandas as pd"
   ]
  },
  {
   "cell_type": "code",
   "execution_count": 9,
   "id": "6c041238-5068-48c3-b154-de1057fc0d0e",
   "metadata": {},
   "outputs": [
    {
     "name": "stdout",
     "output_type": "stream",
     "text": [
      "Просмотр первых строк:\n",
      "    Age   Gender AcademicPerformance TakingNoteInClass DepressionStatus  \\\n",
      "0    23    Male             Average                No        Sometimes   \n",
      "1    23    Male           Excellent         Sometimes              Yes   \n",
      "2    24    Male             Average                No        Sometimes   \n",
      "3    20  Female                Good               Yes        Sometimes   \n",
      "4    24  Female             Average               Yes              Yes   \n",
      "\n",
      "  FaceChallangesToCompleteAcademicTask LikePresentation  SleepPerDayHours  \\\n",
      "0                                  Yes              Yes                12   \n",
      "1                                   No              Yes                 8   \n",
      "2                            Sometimes               No                 8   \n",
      "3                                  Yes               No                 5   \n",
      "4                                  Yes              Yes                 5   \n",
      "\n",
      "   NumberOfFriend LikeNewThings  \n",
      "0             NaN           Yes  \n",
      "1            80.0           Yes  \n",
      "2            10.0           Yes  \n",
      "3            15.0           Yes  \n",
      "4             2.0           Yes  \n",
      "<class 'pandas.core.frame.DataFrame'>\n",
      "RangeIndex: 99 entries, 0 to 98\n",
      "Data columns (total 10 columns):\n",
      " #   Column                                Non-Null Count  Dtype  \n",
      "---  ------                                --------------  -----  \n",
      " 0   Age                                   99 non-null     int64  \n",
      " 1   Gender                                99 non-null     object \n",
      " 2   AcademicPerformance                   95 non-null     object \n",
      " 3   TakingNoteInClass                     99 non-null     object \n",
      " 4   DepressionStatus                      92 non-null     object \n",
      " 5   FaceChallangesToCompleteAcademicTask  99 non-null     object \n",
      " 6   LikePresentation                      99 non-null     object \n",
      " 7   SleepPerDayHours                      99 non-null     int64  \n",
      " 8   NumberOfFriend                        95 non-null     float64\n",
      " 9   LikeNewThings                         99 non-null     object \n",
      "dtypes: float64(1), int64(2), object(7)\n",
      "memory usage: 7.9+ KB\n",
      "Информация о Dataframe:\n",
      " None\n",
      "\n",
      " Описательная статистика\n",
      "            Age   SleepPerDayHours  NumberOfFriend\n",
      "count  99.000000         99.000000       95.000000\n",
      "mean   22.515152          6.717172       16.189474\n",
      "std     1.560767          1.738169       25.397811\n",
      "min    20.000000          4.000000        0.000000\n",
      "25%    21.000000          5.000000        3.000000\n",
      "50%    23.000000          7.000000        6.000000\n",
      "75%    24.000000          8.000000       15.000000\n",
      "max    25.000000         12.000000      100.000000\n"
     ]
    }
   ],
   "source": [
    "# 1. Первичный анализ\n",
    "df = pd.read_csv(\"CSE_student_performances.csv\")\n",
    "\n",
    "\n",
    "#1.1 Просмотр первых нескольких строк\n",
    "print(\"Просмотр первых строк:\\n\", df.head())\n",
    "\n",
    "\n",
    "#1.2 Получение информации о данных\n",
    "print(\"Информация о Dataframe:\\n\", df.info())\n",
    "\n",
    "\n",
    "#1.3 Gписательная статистика\n",
    "print(\"\\n Описательная статистика\")\n",
    "print (df.describe())"
   ]
  },
  {
   "cell_type": "code",
   "execution_count": 45,
   "id": "3c92e279-c6a3-433a-973a-4efabe7022fe",
   "metadata": {},
   "outputs": [
    {
     "ename": "KeyError",
     "evalue": "\"['LikePresentation'] not found in axis\"",
     "output_type": "error",
     "traceback": [
      "\u001b[1;31m---------------------------------------------------------------------------\u001b[0m",
      "\u001b[1;31mKeyError\u001b[0m                                  Traceback (most recent call last)",
      "Cell \u001b[1;32mIn[45], line 3\u001b[0m\n\u001b[0;32m      1\u001b[0m \u001b[38;5;66;03m#2 Удаление колонку 'LikePresentation'\u001b[39;00m\n\u001b[1;32m----> 3\u001b[0m df \u001b[38;5;241m=\u001b[39m df\u001b[38;5;241m.\u001b[39mdrop(columns \u001b[38;5;241m=\u001b[39m [\u001b[38;5;124m\"\u001b[39m\u001b[38;5;124mLikePresentation\u001b[39m\u001b[38;5;124m\"\u001b[39m])\n\u001b[0;32m      4\u001b[0m \u001b[38;5;28mprint\u001b[39m (\u001b[38;5;124m\"\u001b[39m\u001b[38;5;130;01m\\n\u001b[39;00m\u001b[38;5;124m Колонка LikePresentation удалена\u001b[39m\u001b[38;5;124m\"\u001b[39m)\n",
      "File \u001b[1;32m~\\anaconda3\\Lib\\site-packages\\pandas\\core\\frame.py:5581\u001b[0m, in \u001b[0;36mDataFrame.drop\u001b[1;34m(self, labels, axis, index, columns, level, inplace, errors)\u001b[0m\n\u001b[0;32m   5433\u001b[0m \u001b[38;5;28;01mdef\u001b[39;00m \u001b[38;5;21mdrop\u001b[39m(\n\u001b[0;32m   5434\u001b[0m     \u001b[38;5;28mself\u001b[39m,\n\u001b[0;32m   5435\u001b[0m     labels: IndexLabel \u001b[38;5;241m|\u001b[39m \u001b[38;5;28;01mNone\u001b[39;00m \u001b[38;5;241m=\u001b[39m \u001b[38;5;28;01mNone\u001b[39;00m,\n\u001b[1;32m   (...)\u001b[0m\n\u001b[0;32m   5442\u001b[0m     errors: IgnoreRaise \u001b[38;5;241m=\u001b[39m \u001b[38;5;124m\"\u001b[39m\u001b[38;5;124mraise\u001b[39m\u001b[38;5;124m\"\u001b[39m,\n\u001b[0;32m   5443\u001b[0m ) \u001b[38;5;241m-\u001b[39m\u001b[38;5;241m>\u001b[39m DataFrame \u001b[38;5;241m|\u001b[39m \u001b[38;5;28;01mNone\u001b[39;00m:\n\u001b[0;32m   5444\u001b[0m \u001b[38;5;250m    \u001b[39m\u001b[38;5;124;03m\"\"\"\u001b[39;00m\n\u001b[0;32m   5445\u001b[0m \u001b[38;5;124;03m    Drop specified labels from rows or columns.\u001b[39;00m\n\u001b[0;32m   5446\u001b[0m \n\u001b[1;32m   (...)\u001b[0m\n\u001b[0;32m   5579\u001b[0m \u001b[38;5;124;03m            weight  1.0     0.8\u001b[39;00m\n\u001b[0;32m   5580\u001b[0m \u001b[38;5;124;03m    \"\"\"\u001b[39;00m\n\u001b[1;32m-> 5581\u001b[0m     \u001b[38;5;28;01mreturn\u001b[39;00m \u001b[38;5;28msuper\u001b[39m()\u001b[38;5;241m.\u001b[39mdrop(\n\u001b[0;32m   5582\u001b[0m         labels\u001b[38;5;241m=\u001b[39mlabels,\n\u001b[0;32m   5583\u001b[0m         axis\u001b[38;5;241m=\u001b[39maxis,\n\u001b[0;32m   5584\u001b[0m         index\u001b[38;5;241m=\u001b[39mindex,\n\u001b[0;32m   5585\u001b[0m         columns\u001b[38;5;241m=\u001b[39mcolumns,\n\u001b[0;32m   5586\u001b[0m         level\u001b[38;5;241m=\u001b[39mlevel,\n\u001b[0;32m   5587\u001b[0m         inplace\u001b[38;5;241m=\u001b[39minplace,\n\u001b[0;32m   5588\u001b[0m         errors\u001b[38;5;241m=\u001b[39merrors,\n\u001b[0;32m   5589\u001b[0m     )\n",
      "File \u001b[1;32m~\\anaconda3\\Lib\\site-packages\\pandas\\core\\generic.py:4788\u001b[0m, in \u001b[0;36mNDFrame.drop\u001b[1;34m(self, labels, axis, index, columns, level, inplace, errors)\u001b[0m\n\u001b[0;32m   4786\u001b[0m \u001b[38;5;28;01mfor\u001b[39;00m axis, labels \u001b[38;5;129;01min\u001b[39;00m axes\u001b[38;5;241m.\u001b[39mitems():\n\u001b[0;32m   4787\u001b[0m     \u001b[38;5;28;01mif\u001b[39;00m labels \u001b[38;5;129;01mis\u001b[39;00m \u001b[38;5;129;01mnot\u001b[39;00m \u001b[38;5;28;01mNone\u001b[39;00m:\n\u001b[1;32m-> 4788\u001b[0m         obj \u001b[38;5;241m=\u001b[39m obj\u001b[38;5;241m.\u001b[39m_drop_axis(labels, axis, level\u001b[38;5;241m=\u001b[39mlevel, errors\u001b[38;5;241m=\u001b[39merrors)\n\u001b[0;32m   4790\u001b[0m \u001b[38;5;28;01mif\u001b[39;00m inplace:\n\u001b[0;32m   4791\u001b[0m     \u001b[38;5;28mself\u001b[39m\u001b[38;5;241m.\u001b[39m_update_inplace(obj)\n",
      "File \u001b[1;32m~\\anaconda3\\Lib\\site-packages\\pandas\\core\\generic.py:4830\u001b[0m, in \u001b[0;36mNDFrame._drop_axis\u001b[1;34m(self, labels, axis, level, errors, only_slice)\u001b[0m\n\u001b[0;32m   4828\u001b[0m         new_axis \u001b[38;5;241m=\u001b[39m axis\u001b[38;5;241m.\u001b[39mdrop(labels, level\u001b[38;5;241m=\u001b[39mlevel, errors\u001b[38;5;241m=\u001b[39merrors)\n\u001b[0;32m   4829\u001b[0m     \u001b[38;5;28;01melse\u001b[39;00m:\n\u001b[1;32m-> 4830\u001b[0m         new_axis \u001b[38;5;241m=\u001b[39m axis\u001b[38;5;241m.\u001b[39mdrop(labels, errors\u001b[38;5;241m=\u001b[39merrors)\n\u001b[0;32m   4831\u001b[0m     indexer \u001b[38;5;241m=\u001b[39m axis\u001b[38;5;241m.\u001b[39mget_indexer(new_axis)\n\u001b[0;32m   4833\u001b[0m \u001b[38;5;66;03m# Case for non-unique axis\u001b[39;00m\n\u001b[0;32m   4834\u001b[0m \u001b[38;5;28;01melse\u001b[39;00m:\n",
      "File \u001b[1;32m~\\anaconda3\\Lib\\site-packages\\pandas\\core\\indexes\\base.py:7070\u001b[0m, in \u001b[0;36mIndex.drop\u001b[1;34m(self, labels, errors)\u001b[0m\n\u001b[0;32m   7068\u001b[0m \u001b[38;5;28;01mif\u001b[39;00m mask\u001b[38;5;241m.\u001b[39many():\n\u001b[0;32m   7069\u001b[0m     \u001b[38;5;28;01mif\u001b[39;00m errors \u001b[38;5;241m!=\u001b[39m \u001b[38;5;124m\"\u001b[39m\u001b[38;5;124mignore\u001b[39m\u001b[38;5;124m\"\u001b[39m:\n\u001b[1;32m-> 7070\u001b[0m         \u001b[38;5;28;01mraise\u001b[39;00m \u001b[38;5;167;01mKeyError\u001b[39;00m(\u001b[38;5;124mf\u001b[39m\u001b[38;5;124m\"\u001b[39m\u001b[38;5;132;01m{\u001b[39;00mlabels[mask]\u001b[38;5;241m.\u001b[39mtolist()\u001b[38;5;132;01m}\u001b[39;00m\u001b[38;5;124m not found in axis\u001b[39m\u001b[38;5;124m\"\u001b[39m)\n\u001b[0;32m   7071\u001b[0m     indexer \u001b[38;5;241m=\u001b[39m indexer[\u001b[38;5;241m~\u001b[39mmask]\n\u001b[0;32m   7072\u001b[0m \u001b[38;5;28;01mreturn\u001b[39;00m \u001b[38;5;28mself\u001b[39m\u001b[38;5;241m.\u001b[39mdelete(indexer)\n",
      "\u001b[1;31mKeyError\u001b[0m: \"['LikePresentation'] not found in axis\""
     ]
    }
   ],
   "source": [
    "#2 Удаление колонку 'LikePresentation'\n",
    "\n",
    "df = df.drop(columns = [\"LikePresentation\"])\n",
    "print (\"\\n Колонка LikePresentation удалена\")\n",
    "\n",
    "#я удалил в начале когда делал , и при проверки каждого блока кода отдельно опять проверил и выдает ошибку \"['LikePresentation'] not found in axis\" , выдает потому что уже удалена"
   ]
  },
  {
   "cell_type": "code",
   "execution_count": 16,
   "id": "2b524d61-1f1b-4950-887e-c777c3bab143",
   "metadata": {},
   "outputs": [
    {
     "name": "stdout",
     "output_type": "stream",
     "text": [
      "\n",
      " Колонки переименованы:\n",
      " Index(['Age ', 'Gender', 'Academic Performance', 'Taking Note In Class',\n",
      "       'Depression Status', 'Face Challanges To Complete Academic Task',\n",
      "       'Sleep Per Day Hours', 'Number Of Friend', 'Like New Things'],\n",
      "      dtype='object')\n",
      "Просмотр первых строк:\n",
      "    Age   Gender Academic Performance Taking Note In Class Depression Status  \\\n",
      "0    23    Male              Average                   No         Sometimes   \n",
      "1    23    Male            Excellent            Sometimes               Yes   \n",
      "2    24    Male              Average                   No         Sometimes   \n",
      "3    20  Female                 Good                  Yes         Sometimes   \n",
      "4    24  Female              Average                  Yes               Yes   \n",
      "\n",
      "  Face Challanges To Complete Academic Task  Sleep Per Day Hours  \\\n",
      "0                                       Yes                   12   \n",
      "1                                        No                    8   \n",
      "2                                 Sometimes                    8   \n",
      "3                                       Yes                    5   \n",
      "4                                       Yes                    5   \n",
      "\n",
      "   Number Of Friend Like New Things  \n",
      "0               NaN             Yes  \n",
      "1              80.0             Yes  \n",
      "2              10.0             Yes  \n",
      "3              15.0             Yes  \n",
      "4               2.0             Yes  \n"
     ]
    }
   ],
   "source": [
    "#3 Изменение названий колонок (разделяем слова)\n",
    "\n",
    "df.columns = df.columns.str.replace(r\"([a-z])([A-Z])\", r\"\\1 \\2\", regex=True)\n",
    "print(\"\\n Колонки переименованы:\\n\", df.columns)\n",
    "print(\"Просмотр первых строк:\\n\", df.head())"
   ]
  },
  {
   "cell_type": "code",
   "execution_count": 17,
   "id": "1d0fcd8a-fdb1-4c6e-8a9b-e3a12d78e11c",
   "metadata": {},
   "outputs": [],
   "source": [
    "#4. Очистка данных (дубликатов и пропусков)\n",
    "\n",
    "df = df.drop_duplicates()\n",
    "df = df.dropna()\n"
   ]
  },
  {
   "cell_type": "code",
   "execution_count": 26,
   "id": "ad3642d4-3549-4751-b58a-a8e2d03eed18",
   "metadata": {},
   "outputs": [
    {
     "name": "stdout",
     "output_type": "stream",
     "text": [
      "\n",
      "Среднее количество сна студентов: 6.73 часов\n"
     ]
    }
   ],
   "source": [
    "#5. Среднее количество сна студентов\n",
    "\n",
    "average_sleep = df[\"Sleep Per Day Hours\"].mean()\n",
    "print(f\"\\nСреднее количество сна студентов: {average_sleep:.2f} часов\")"
   ]
  },
  {
   "cell_type": "code",
   "execution_count": 39,
   "id": "6ed20489-0db3-456f-bd39-f45b889922d4",
   "metadata": {},
   "outputs": [
    {
     "name": "stdout",
     "output_type": "stream",
     "text": [
      "\n",
      " Среднее количество сна у отличников: 7.67 часов\n",
      "\n",
      " Таблица студентов с оценками 'Excellent':\n",
      "     Age  Gender Academic Performance Taking Note In Class Depression Status  \\\n",
      "1     23   Male            Excellent            Sometimes               Yes   \n",
      "8     24   Male            Excellent                   No                No   \n",
      "11    22   Male            Excellent            Sometimes         Sometimes   \n",
      "\n",
      "   Face Challanges To Complete Academic Task  Sleep Per Day Hours  \\\n",
      "1                                         No                    8   \n",
      "8                                         No                    8   \n",
      "11                                       Yes                    7   \n",
      "\n",
      "    Number Of Friend Like New Things  \n",
      "1               80.0             Yes  \n",
      "8                3.0             Yes  \n",
      "11              55.0             Yes  \n"
     ]
    }
   ],
   "source": [
    "#6. Среднее количество сна у отличников\n",
    "\n",
    "excellent_students = df[df[\"Academic Performance\"] == \"Excellent\"]\n",
    "excellent_sleep_avg = excellent_students[\"Sleep Per Day Hours\"].mean()\n",
    "print(f\"\\n Среднее количество сна у отличников: {excellent_sleep_avg:.2f} часов\")\n",
    "\n",
    "#6.1 Вывод таблицы отличников\n",
    "\n",
    "print(\"\\n Таблица студентов с оценками 'Excellent':\\n\", excellent_students.head())\n"
   ]
  },
  {
   "cell_type": "code",
   "execution_count": 30,
   "id": "d55ffe26-ff3e-4e71-9adc-4fe1afb09aea",
   "metadata": {},
   "outputs": [
    {
     "name": "stdout",
     "output_type": "stream",
     "text": [
      "Index(['Age ', 'Gender', 'Academic Performance', 'Taking Note In Class',\n",
      "       'Depression Status', 'Face Challanges To Complete Academic Task',\n",
      "       'Sleep Per Day Hours', 'Number Of Friend', 'Like New Things'],\n",
      "      dtype='object')\n"
     ]
    }
   ],
   "source": [
    "print(df.columns)"
   ]
  },
  {
   "cell_type": "code",
   "execution_count": 37,
   "id": "64c672bc-4986-493e-ab5e-6001267f8a8b",
   "metadata": {},
   "outputs": [
    {
     "name": "stdout",
     "output_type": "stream",
     "text": [
      "['Excellent' 'Average' 'Good' 'Below average']\n"
     ]
    }
   ],
   "source": [
    "print( df[\"Academic Performance\"].unique())"
   ]
  },
  {
   "cell_type": "code",
   "execution_count": 43,
   "id": "af8325d0-991d-4c87-bb51-11e234258dab",
   "metadata": {},
   "outputs": [
    {
     "name": "stdout",
     "output_type": "stream",
     "text": [
      "\n",
      " Среднее количество сна у студентов с депрессией: 5.80 часов\n",
      "\n",
      " Таблица студентов с депрессией:\n",
      "     Age   Gender Academic Performance Taking Note In Class Depression Status  \\\n",
      "1     23    Male            Excellent            Sometimes               Yes   \n",
      "4     24  Female              Average                  Yes               Yes   \n",
      "7     21    Male              Average            Sometimes               Yes   \n",
      "10    22    Male              Average                  Yes               Yes   \n",
      "13    24  Female                 Good                  Yes               Yes   \n",
      "\n",
      "   Face Challanges To Complete Academic Task  Sleep Per Day Hours  \\\n",
      "1                                         No                    8   \n",
      "4                                        Yes                    5   \n",
      "7                                  Sometimes                    8   \n",
      "10                                 Sometimes                    4   \n",
      "13                                       Yes                    5   \n",
      "\n",
      "    Number Of Friend Like New Things  \n",
      "1               80.0             Yes  \n",
      "4                2.0             Yes  \n",
      "7                6.0             Yes  \n",
      "10              60.0             Yes  \n",
      "13               3.0             Yes  \n"
     ]
    }
   ],
   "source": [
    "#  7. Среднее количество сна у студентов с депрессией\n",
    "\n",
    "depressed_students = df[df[\"Depression Status\"] == \"Yes\"]\n",
    "depressed_sleep_avg = depressed_students[\"Sleep Per Day Hours\"].mean()\n",
    "print(f\"\\n Среднее количество сна у студентов с депрессией: {depressed_sleep_avg:.2f} часов\")\n",
    "\n",
    "# Вывод таблицы студентов с депрессией\n",
    "print(\"\\n Таблица студентов с депрессией:\\n\", depressed_students.head())"
   ]
  },
  {
   "cell_type": "code",
   "execution_count": null,
   "id": "8a6b8d4c-730e-4076-b901-7760e8cb2a43",
   "metadata": {},
   "outputs": [],
   "source": []
  }
 ],
 "metadata": {
  "kernelspec": {
   "display_name": "Python 3 (ipykernel)",
   "language": "python",
   "name": "python3"
  },
  "language_info": {
   "codemirror_mode": {
    "name": "ipython",
    "version": 3
   },
   "file_extension": ".py",
   "mimetype": "text/x-python",
   "name": "python",
   "nbconvert_exporter": "python",
   "pygments_lexer": "ipython3",
   "version": "3.12.7"
  }
 },
 "nbformat": 4,
 "nbformat_minor": 5
}
